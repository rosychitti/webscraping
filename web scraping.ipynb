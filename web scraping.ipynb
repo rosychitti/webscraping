{
 "cells": [
  {
   "cell_type": "markdown",
   "id": "404d6aac",
   "metadata": {},
   "source": [
    "#                  WEB SCRAPING USING PYTHON"
   ]
  },
  {
   "cell_type": "code",
   "execution_count": null,
   "id": "bfae4ef5",
   "metadata": {},
   "outputs": [],
   "source": [
    "# import required modules"
   ]
  },
  {
   "cell_type": "code",
   "execution_count": null,
   "id": "7d0dd6de",
   "metadata": {},
   "outputs": [],
   "source": [
    "import requests"
   ]
  },
  {
   "cell_type": "code",
   "execution_count": null,
   "id": "ab8cc71f",
   "metadata": {},
   "outputs": [],
   "source": [
    "#get URL"
   ]
  },
  {
   "cell_type": "code",
   "execution_count": null,
   "id": "1157b5ae",
   "metadata": {},
   "outputs": [],
   "source": [
    "page = requests.get(\"https://en.wikipedia.org/wiki/Main.Page\")"
   ]
  },
  {
   "cell_type": "code",
   "execution_count": null,
   "id": "9a00e097",
   "metadata": {},
   "outputs": [],
   "source": [
    "#display status code"
   ]
  },
  {
   "cell_type": "code",
   "execution_count": null,
   "id": "218ecd64",
   "metadata": {},
   "outputs": [],
   "source": [
    "print(page.status_code)"
   ]
  },
  {
   "cell_type": "code",
   "execution_count": null,
   "id": "24493947",
   "metadata": {},
   "outputs": [],
   "source": [
    "#display scraped data"
   ]
  },
  {
   "cell_type": "code",
   "execution_count": null,
   "id": "ccb61131",
   "metadata": {},
   "outputs": [],
   "source": [
    "print(page.content)"
   ]
  },
  {
   "cell_type": "markdown",
   "id": "90fd6b59",
   "metadata": {},
   "source": [
    "PYTHON PROGRAM FOR MEN's ICC CRICKET ODI team,rating,matches,bowlers"
   ]
  },
  {
   "cell_type": "code",
   "execution_count": null,
   "id": "87cab0b3",
   "metadata": {},
   "outputs": [],
   "source": [
    "import requests"
   ]
  },
  {
   "cell_type": "code",
   "execution_count": null,
   "id": "1453fde4",
   "metadata": {},
   "outputs": [],
   "source": [
    "from bs4 import BeautifulSoup"
   ]
  },
  {
   "cell_type": "code",
   "execution_count": null,
   "id": "b99a6581",
   "metadata": {},
   "outputs": [],
   "source": [
    "import re"
   ]
  },
  {
   "cell_type": "code",
   "execution_count": null,
   "id": "ad80185c",
   "metadata": {},
   "outputs": [],
   "source": [
    "import pandas as pd"
   ]
  },
  {
   "cell_type": "code",
   "execution_count": null,
   "id": "1dec6e6d",
   "metadata": {},
   "outputs": [],
   "source": [
    "headers ={\"User-Agent\":\"Mozilla/50(x11; Linux x86) AppleWebkit/537.36(KHTML, like Gecko) Chrome/75.0.3770.100 Safari/537.36 \"}"
   ]
  },
  {
   "cell_type": "code",
   "execution_count": null,
   "id": "57a22ef0",
   "metadata": {},
   "outputs": [],
   "source": [
    "urls = [\"https://WWW.icc-cricket.com/mens-schedule/list\"]"
   ]
  },
  {
   "cell_type": "code",
   "execution_count": null,
   "id": "0b6aa673",
   "metadata": {},
   "outputs": [],
   "source": [
    "final_result_file_name = \"All Ranking List.csv\""
   ]
  },
  {
   "cell_type": "code",
   "execution_count": null,
   "id": "a8ff81e6",
   "metadata": {},
   "outputs": [],
   "source": [
    "final_column_names = [\"Ranking Type\", \"Position\", \"Player Name\", \"Team Name\", \"Rating\",\"Career Best Rating\", \"Crawl URL\"]"
   ]
  },
  {
   "cell_type": "code",
   "execution_count": null,
   "id": "ad5b7d05",
   "metadata": {},
   "outputs": [],
   "source": [
    "pd.DataFrame(columns=final_column_names).to_csv(final_result_file_name, sep=\"\\t\", index=False, encoding=\"utf-8\")"
   ]
  },
  {
   "cell_type": "code",
   "execution_count": null,
   "id": "bb47a93d",
   "metadata": {},
   "outputs": [],
   "source": [
    "for url in urls:\n",
    "    \n",
    "    request_object = requests.get(url, headers=headers)\n",
    "    html_content = request_object.text\n",
    "    print(request_object.status_code,\"->\", url)\n",
    "    soup_object = BeautifulSoup(html_content, \"lxml\")\n",
    "    type_ = soup_object.select_one('h1.page-title').text"
   ]
  },
  {
   "cell_type": "code",
   "execution_count": null,
   "id": "5840abba",
   "metadata": {},
   "outputs": [],
   "source": [
    "for element in soup_object.select('[class=\"ranking-posup\"], [class=\"ranking-pos down\"]'):\n",
    "    element.replace_with(BeautifulSoup(\"<\" + element.name + \"></\" + element.name + \">\",\"html.parser\"))"
   ]
  },
  {
   "cell_type": "code",
   "execution_count": null,
   "id": "ba451154",
   "metadata": {},
   "outputs": [],
   "source": [
    "ranking_type = soup_object.select_one(\".rankings-block__title-container > h1\")\n",
    "\n"
   ]
  },
  {
   "cell_type": "code",
   "execution_count": null,
   "id": "96176059",
   "metadata": {},
   "outputs": [],
   "source": [
    "\n",
    "column_names = [\"Position\",\"Player Name\", \"Team Name\",\"Rating\", \"Career Best Rating\",\"Crawl URL\"]\n",
    "pd.DataFrame(columns=column_names).to_csv(result_file_name, sep=\"\\t\", index=False,encoding=\"utf-8\")"
   ]
  },
  {
   "cell_type": "code",
   "execution_count": null,
   "id": "89013934",
   "metadata": {},
   "outputs": [],
   "source": [
    "for element in soup_object.select('table[class=\"table rankings-table\"] tr'):\n",
    "    if(element.find(\"th\")):\n",
    "        continue\n",
    "    data_dict = dict()\n",
    "    data_dict[\"Crawl URL\"] = url\n",
    "    data_dict[\"Ranking Type\"] = ranking_type\n",
    "    if(element.select_one('[class*=\"position\"]')):\n",
    "        data_dict[\"Position\"] = element.select('[class*=\"position\"]').text "
   ]
  },
  {
   "cell_type": "code",
   "execution_count": null,
   "id": "b5d9e40a",
   "metadata": {},
   "outputs": [],
   "source": [
    "for player_name in (element.select('a[href*=\"/player-rankings\"]')):\n",
    "    if(player_name.text.strip()):\n",
    "        data_dict[\"Player Name\"] = player_name.text"
   ]
  },
  {
   "cell_type": "code",
   "execution_count": null,
   "id": "a1da0482",
   "metadata": {},
   "outputs": [],
   "source": [
    "if(element.select_one('[class^=\"flag-15\"]')):\n",
    "    data_dict[\"Team Name\"] = element.select_one('[class^=\"flag-15\"]')[\"class\"][-1]                  "
   ]
  },
  {
   "cell_type": "code",
   "execution_count": null,
   "id": "5a7264e2",
   "metadata": {},
   "outputs": [],
   "source": [
    "if(element.select_one('[class$=\"rating\"]')):\n",
    "    data_dict[\"Rating\"] = element.select_one('[class$=\"rating\"]').text"
   ]
  },
  {
   "cell_type": "code",
   "execution_count": null,
   "id": "84415a32",
   "metadata": {},
   "outputs": [],
   "source": [
    "for key in data_dict.keys():\n",
    "    data_dict[key] = re.sub(r\"\\s+\", \" \",data_dict[key])\n",
    "    data_dict[key] = data_dict[key].strip()\n",
    "pd.DataFrame([data_dict], columns=column_names).to_csv(result_file_name, sep=\"\\t\", index=False, encoding=\"utf-8\",mode=\"a\")\n",
    "pd.DataFrame([data_dict], columns=final_column_names).to_csv(final_result_file_name,sep=\"\\t\",index=False,header=False,encoding=\"utf-8\", mode=\"a\")"
   ]
  },
  {
   "cell_type": "markdown",
   "id": "871c7c42",
   "metadata": {},
   "source": [
    "# python program to scrape dineout.co.in"
   ]
  },
  {
   "cell_type": "code",
   "execution_count": null,
   "id": "f3013eac",
   "metadata": {},
   "outputs": [],
   "source": [
    "# importing the required libraries\n",
    "from bs4 import BeautifulSoup\n",
    "import requests"
   ]
  },
  {
   "cell_type": "code",
   "execution_count": null,
   "id": "972eb310",
   "metadata": {},
   "outputs": [],
   "source": [
    "page = requests.get('https://www.dineout.co.in/delhi-restaurants/buffet-special')"
   ]
  },
  {
   "cell_type": "code",
   "execution_count": null,
   "id": "528ddb01",
   "metadata": {},
   "outputs": [],
   "source": [
    "page"
   ]
  },
  {
   "cell_type": "code",
   "execution_count": null,
   "id": "24f3e2b2",
   "metadata": {},
   "outputs": [],
   "source": [
    "soup = BeautifulSoup(page.content)\n",
    "soup"
   ]
  },
  {
   "cell_type": "code",
   "execution_count": null,
   "id": "ccd65a3d",
   "metadata": {},
   "outputs": [],
   "source": [
    "first_title = soup.find('div',class_=\"restnt-info cursor\")\n",
    "first_title"
   ]
  },
  {
   "cell_type": "code",
   "execution_count": null,
   "id": "02ecf338",
   "metadata": {},
   "outputs": [],
   "source": [
    "first_title.text"
   ]
  },
  {
   "cell_type": "code",
   "execution_count": null,
   "id": "a6e642e7",
   "metadata": {},
   "outputs": [],
   "source": [
    "loc = soup.find('div',class_=\"restnt-loc ellipsis\")\n",
    "loc.text"
   ]
  },
  {
   "cell_type": "code",
   "execution_count": null,
   "id": "dc20bd14",
   "metadata": {},
   "outputs": [],
   "source": [
    "sta = soup.find('span',class_=\"double-line-ellipsis\")\n",
    "sta.text.split()"
   ]
  },
  {
   "cell_type": "code",
   "execution_count": null,
   "id": "b5233d04",
   "metadata": {},
   "outputs": [],
   "source": [
    "titles = []\n",
    "for i in soup.find_all('div',class_=\"restnt-info cursor\"):\n",
    "    titles.append(i.text)\n",
    "    \n",
    "titles    \n"
   ]
  },
  {
   "cell_type": "code",
   "execution_count": null,
   "id": "bce88bf9",
   "metadata": {},
   "outputs": [],
   "source": [
    "location = [] # empty list\n",
    "\n",
    "for i in soup.find_all('div',class_=\"restnt-loc ellipsis\"):\n",
    "    location.append(i.text)\n",
    "    \n",
    "location   "
   ]
  },
  {
   "cell_type": "code",
   "execution_count": null,
   "id": "883cfe51",
   "metadata": {},
   "outputs": [],
   "source": [
    "price = [] # empty list\n",
    "\n",
    "for i in soup.find_all('span',class_=\"double-line-ellipsis\"):\n",
    "    price.append(i.text.replace('₹',''))\n",
    "    \n",
    "price    "
   ]
  },
  {
   "cell_type": "code",
   "execution_count": null,
   "id": "b041cf8e",
   "metadata": {},
   "outputs": [],
   "source": [
    "images = []\n",
    "\n",
    "for i in soup.find_all(\"img\",class_=\"no-img\"):\n",
    "    images.append(i['data-src'])\n",
    "    \n",
    "images    "
   ]
  },
  {
   "cell_type": "code",
   "execution_count": null,
   "id": "0d037bb6",
   "metadata": {},
   "outputs": [],
   "source": [
    "# Making dataframe\n",
    "import pandas as pd\n",
    "df = pd.DataFrame({'Titles':titles,'Location':location,'Price':price,'Images':images})\n",
    "df"
   ]
  },
  {
   "cell_type": "code",
   "execution_count": null,
   "id": "8b7da280",
   "metadata": {},
   "outputs": [],
   "source": [
    "# printing length\n",
    "print(len(titles),len(location),len(price),len(images))"
   ]
  },
  {
   "cell_type": "markdown",
   "id": "97bcdd2d",
   "metadata": {},
   "source": [
    "# python program to scrape all the post from coreyms.com"
   ]
  },
  {
   "cell_type": "code",
   "execution_count": null,
   "id": "05e25ada",
   "metadata": {},
   "outputs": [],
   "source": [
    "from bs4 import BeautifulSoup"
   ]
  },
  {
   "cell_type": "code",
   "execution_count": null,
   "id": "c10c5855",
   "metadata": {},
   "outputs": [],
   "source": [
    "import requests"
   ]
  },
  {
   "cell_type": "code",
   "execution_count": null,
   "id": "5c59965b",
   "metadata": {},
   "outputs": [],
   "source": [
    "page7=requests.get('https://coreyms.com/')\n",
    "page7"
   ]
  },
  {
   "cell_type": "code",
   "execution_count": null,
   "id": "79e200cb",
   "metadata": {},
   "outputs": [],
   "source": [
    "soup7 = BeautifulSoup(page7.content)\n",
    "soup"
   ]
  },
  {
   "cell_type": "code",
   "execution_count": null,
   "id": "49449853",
   "metadata": {},
   "outputs": [],
   "source": [
    "data =[]"
   ]
  },
  {
   "cell_type": "code",
   "execution_count": null,
   "id": "eec1e4ea",
   "metadata": {},
   "outputs": [],
   "source": [
    "for a in soup7.find_all('article'):\n",
    "    data.append({'heading':a.h2.text,\n",
    "                'date':a.find('time',class_='entry-time').text,\n",
    "                'content':a.find('div',class_='entry-content').text,\n",
    "                'videolink':vl['src'] if(vl := a.find('iframe',class_='youtube-player')) else None})\n",
    "print(data)   "
   ]
  },
  {
   "cell_type": "markdown",
   "id": "716777ad",
   "metadata": {},
   "source": [
    "# python program using https://nobroker.in/,house title,location,area,EMI and price"
   ]
  },
  {
   "cell_type": "code",
   "execution_count": null,
   "id": "c5237d70",
   "metadata": {},
   "outputs": [],
   "source": [
    "from bs4 import BeautifulSoup\n",
    "import requests"
   ]
  },
  {
   "cell_type": "code",
   "execution_count": null,
   "id": "5d0f4224",
   "metadata": {},
   "outputs": [],
   "source": [
    "page =requests.get('https://www.nobroker.in/')"
   ]
  },
  {
   "cell_type": "code",
   "execution_count": null,
   "id": "568f7c2f",
   "metadata": {},
   "outputs": [],
   "source": [
    "page"
   ]
  },
  {
   "cell_type": "code",
   "execution_count": null,
   "id": "db623fc6",
   "metadata": {},
   "outputs": [],
   "source": [
    "soup = BeautifulSoup(page.content)\n",
    "soup"
   ]
  },
  {
   "cell_type": "code",
   "execution_count": null,
   "id": "2507b9cf",
   "metadata": {},
   "outputs": [],
   "source": [
    "first_title = soup.find('div',class_=\"flex\")\n",
    "first_title.text                      "
   ]
  },
  {
   "cell_type": "code",
   "execution_count": null,
   "id": "b71c7e63",
   "metadata": {},
   "outputs": [],
   "source": [
    "first_title.text"
   ]
  },
  {
   "cell_type": "code",
   "execution_count": null,
   "id": "bbf186ba",
   "metadata": {},
   "outputs": [],
   "source": [
    "loc = soup.find('div',class_=\"overflow-hidden ,overflow-ellipsis\") \n",
    "loc"
   ]
  },
  {
   "cell_type": "code",
   "execution_count": null,
   "id": "bc24548a",
   "metadata": {},
   "outputs": [],
   "source": [
    "titles = [] # empty list forstore the\n",
    "\n",
    "for i in soup.find_all('div',class_=\"flex\"):\n",
    "    titles.append(i.text)\n",
    "    \n",
    "titles    "
   ]
  },
  {
   "cell_type": "code",
   "execution_count": null,
   "id": "c8dfbe1f",
   "metadata": {},
   "outputs": [],
   "source": [
    "location = [] # empty list\n",
    "\n",
    "for i in soup.find_all('div',class_=\"overflow-hidden,overflow-ellipsis\"):\n",
    "    location.append(i.text)\n",
    "    \n",
    "location    "
   ]
  },
  {
   "cell_type": "code",
   "execution_count": null,
   "id": "09581ed3",
   "metadata": {},
   "outputs": [],
   "source": [
    "titles = [] # empty list for store the\n",
    "\n",
    "for i in soup.find_all('div',class_=\"flex\"):\n",
    "    titles.append(i.text)\n",
    "    \n",
    "titles    "
   ]
  },
  {
   "cell_type": "code",
   "execution_count": null,
   "id": "f60978a2",
   "metadata": {},
   "outputs": [],
   "source": [
    "location = [] # empty list\n",
    "\n",
    "for i in soup.find_all('div',class_=\"overflow-hidden ,overflow-ellipsis\"):\n",
    "    location.append(i.text)\n",
    "    \n",
    "location    "
   ]
  },
  {
   "cell_type": "code",
   "execution_count": null,
   "id": "b2e9fa29",
   "metadata": {},
   "outputs": [],
   "source": [
    "price = [] # empty list\n",
    "for i in soup.find_all('span',class_=\"overflow_hidden,overflow-ellipsis\"):\n",
    "    price.append(i.text.replace('₹',''))\n",
    "    \n",
    "price    "
   ]
  },
  {
   "cell_type": "code",
   "execution_count": null,
   "id": "0093d580",
   "metadata": {},
   "outputs": [],
   "source": [
    "images = []\n",
    "for i in soup.find_all('img',class_=\"no-img\"):\n",
    "    images.append(i['data-src'])\n",
    "    \n",
    "images    "
   ]
  },
  {
   "cell_type": "code",
   "execution_count": null,
   "id": "22318f54",
   "metadata": {},
   "outputs": [],
   "source": [
    "# printing length\n",
    "print(len(titles),len(location),len(price),len(images))"
   ]
  },
  {
   "cell_type": "markdown",
   "id": "697ce4af",
   "metadata": {},
   "source": [
    "# python program to scrape first 10 product www.bewakoof.com"
   ]
  },
  {
   "cell_type": "code",
   "execution_count": null,
   "id": "0d3cecf8",
   "metadata": {},
   "outputs": [],
   "source": [
    "from bs4 import BeautifulSoup\n",
    "import requests\n",
    "import re"
   ]
  },
  {
   "cell_type": "code",
   "execution_count": null,
   "id": "a5be5213",
   "metadata": {},
   "outputs": [],
   "source": [
    "page = requests.get('https://www.bewakoof.com/women-tshirts?ga_q=tshirts')"
   ]
  },
  {
   "cell_type": "code",
   "execution_count": null,
   "id": "f64f2a8f",
   "metadata": {},
   "outputs": [],
   "source": [
    "page"
   ]
  },
  {
   "cell_type": "code",
   "execution_count": null,
   "id": "a073f16d",
   "metadata": {},
   "outputs": [],
   "source": [
    "soup = BeautifulSoup(page.content)\n",
    "soup"
   ]
  },
  {
   "cell_type": "code",
   "execution_count": null,
   "id": "0dbdbbfe",
   "metadata": {},
   "outputs": [],
   "source": [
    "#first, we will use html tag where we have the first title of the product\n",
    "\n",
    "first_title = soup.find('div',class_=\"plp-product-card\")\n",
    "first_title"
   ]
  },
  {
   "cell_type": "code",
   "execution_count": null,
   "id": "e166da01",
   "metadata": {},
   "outputs": [],
   "source": [
    "first_title"
   ]
  },
  {
   "cell_type": "code",
   "execution_count": null,
   "id": "888e6707",
   "metadata": {},
   "outputs": [],
   "source": [
    "loc = soup.find('div',class_=\"loyalty Price-Box\")\n",
    "loc"
   ]
  },
  {
   "cell_type": "code",
   "execution_count": null,
   "id": "cda534cb",
   "metadata": {},
   "outputs": [],
   "source": [
    "sta = soup.find('span',class_=\"actualPriceText\")\n",
    "sta"
   ]
  },
  {
   "cell_type": "code",
   "execution_count": null,
   "id": "fb94df33",
   "metadata": {},
   "outputs": [],
   "source": [
    "titles = [] # empty list \n",
    "\n",
    "for i in soup.find_all('span',class_=\"actualpricetext\"):\n",
    "    price.append(i.replace('₹',''))   "
   ]
  },
  {
   "cell_type": "code",
   "execution_count": null,
   "id": "c3ec81db",
   "metadata": {},
   "outputs": [],
   "source": [
    "images = [] # empty list\n",
    "\n",
    "for i in soup.find_all('img',class_=\"productImgTag\"):\n",
    "    images.append(i['data-src'])\n",
    "images                    "
   ]
  },
  {
   "cell_type": "markdown",
   "id": "b6c880b0",
   "metadata": {},
   "source": [
    "# PYTHON PROGRAM TO DSIPLAY IMDB'S TOP 100 INDIAN MOVIES DATA"
   ]
  },
  {
   "cell_type": "code",
   "execution_count": null,
   "id": "0fe7aaaa",
   "metadata": {},
   "outputs": [],
   "source": [
    "import numpy as np\n",
    "import pandas as pd\n",
    "import re\n",
    "import lxml"
   ]
  },
  {
   "cell_type": "code",
   "execution_count": null,
   "id": "fb095577",
   "metadata": {},
   "outputs": [],
   "source": [
    "from bs4 import BeautifulSoup\n",
    "from requests import get"
   ]
  },
  {
   "cell_type": "code",
   "execution_count": null,
   "id": "981079ca",
   "metadata": {},
   "outputs": [],
   "source": [
    "url1 = (\"https://www.imdb.com/search/title?count=100&title_type=feature,ref_=nv_wl_img_2\")"
   ]
  },
  {
   "cell_type": "code",
   "execution_count": null,
   "id": "00a570d2",
   "metadata": {},
   "outputs": [],
   "source": [
    "class IMDB(object):\n",
    "    \"\"\"docstring for IMDB\"\"\"\n",
    "    "
   ]
  },
  {
   "cell_type": "code",
   "execution_count": null,
   "id": "161280ec",
   "metadata": {},
   "outputs": [],
   "source": [
    "\n",
    "        page = get(url1)"
   ]
  },
  {
   "cell_type": "code",
   "execution_count": null,
   "id": "0561ba47",
   "metadata": {},
   "outputs": [],
   "source": [
    "soup = BeautifulSoup(page.content, 'lxml')"
   ]
  },
  {
   "cell_type": "code",
   "execution_count": null,
   "id": "6d789b65",
   "metadata": {},
   "outputs": [],
   "source": [
    "def articletitle(self):\n",
    "    return self.soup.find(\"h1\", class_=\"header\").text.replace(\"\\n\",\"\")"
   ]
  },
  {
   "cell_type": "code",
   "execution_count": null,
   "id": "126a6385",
   "metadata": {},
   "outputs": [],
   "source": [
    "def bodycontent(self):\n",
    "    content = self.soup.find(id=\"main\")\n",
    "    return content.find_all(\"div\",class_=\"header\").text.replace(\"\\n\",\"\")"
   ]
  },
  {
   "cell_type": "code",
   "execution_count": null,
   "id": "1f84d5e9",
   "metadata": {},
   "outputs": [],
   "source": [
    "def movieData(self):\n",
    "    movieFrame = self.bodyContent()\n",
    "    movieTitle = []\n",
    "    movieDate = []\n",
    "    movieRunTime = []\n",
    "    movieGenre = []\n",
    "    movieRating = []\n",
    "    movieScore = []\n",
    "    movieDescription = []\n",
    "    movieDirector = []\n",
    "    movieStars = []\n",
    "    movieVotes= []\n",
    "    movieGross = []\n",
    "for movie in movieFrame: \n",
    "     for movie in movieFrame:\n",
    "        movieFirtLine = movie.find(\"h3\",class_=\"lister-item-header\")\n",
    "       "
   ]
  },
  {
   "cell_type": "markdown",
   "id": "1de3fedd",
   "metadata": {},
   "source": [
    "except:\n",
    "    movieTitle.append(movieFirstLine.find(\"a\").text)\n",
    "        movieDate.append(re.sub(\"r[()]\",\"\",movieFirstLine.find_all(\"span\")[-1].text))\n",
    "\n",
    "try:\n",
    "    movieRunTime.append(movie.find(\"span\",class_=\"runtime\").text[:-4])\n",
    "except:\n",
    "    movieRunTime.append(np.nan)\n",
    "    movieGenre.append(movie.find(\"span\", class_=\"genre\").text.rstrip().replace(\"\\n\",\"\").split(\",\"))\n",
    "try :\n",
    "    movieRating.append(movie.find(\"strong\").text)\n",
    "except:\n",
    "    movieRating.append(np.nan)\n",
    "try:\n",
    "    movieScore.append(movie.find(\"span\", class_=\"metascore unfavorable\").text.rstrip())\n",
    "except:\n",
    "    movieScore.append(np.nan)\n",
    "    movieDescription.append(movie.find_all(\"p\", class_=\"text-muted\")[-1].text.lstrip())\n",
    "    movieCast = movie.find(\"p\",class_=\"\")\n",
    "try:\n",
    "    casts = movieCast.text.replace(\"\\n\",\"\").split('|')\n",
    "    casts = [x.strip() for x in cats]\n",
    "    casts = [casts[i].replace(j,\"\")for i,j in enumerate([\"Director:\", \"Stars:\"])]\n",
    "    movieDirector.append(casts[0])\n",
    "    movieStars.append([x.strip() for x in casts[1].split(\",\")])\n",
    "except:\n",
    "    casts = movieCast.text.replace(\"\\n\",\"\").strip()\n",
    "    movieDirectorappend(np.nan)\n",
    "    movieStars.append([x.strip()for x in casts.split(\",\")])\n",
    "        "
   ]
  },
  {
   "cell_type": "code",
   "execution_count": null,
   "id": "02a0ef52",
   "metadata": {},
   "outputs": [],
   "source": [
    "movieNumbers = movie.find_all(\"span\", attrs={\"name\": \"nv\"})\n",
    "if len(movieNumbers) == 2:\n",
    "    movieVotes>append(movieNumbers[0].text)\n",
    "    movieGross.append(movieNumbers[1].text)\n",
    "elif len(movieNumbers) == 1:\n",
    "    movieVotes.append(movieNumbers[0].text)\n",
    "    movieGross.append(np.nan)\n",
    "else:\n",
    "    movieVotes.apppend(np.nan)\n",
    "    movieGross.append(np.nan)\n",
    "    \n",
    "movieData = [movieTitle, movieData, movieGenre, movieRating, movieStore, movieDescription, movieDirector, movieStars, \n",
    "                                              movieVotes,movieGross]\n",
    "return movieData\n",
    "    \n",
    "    "
   ]
  },
  {
   "cell_type": "markdown",
   "id": "d5a6ee27",
   "metadata": {},
   "source": [
    "# PYTHON PROGRAM SCRAPE TO DISPLAY 100 TOP rated MOVIESDATA"
   ]
  },
  {
   "cell_type": "code",
   "execution_count": null,
   "id": "cc7db99d",
   "metadata": {},
   "outputs": [],
   "source": [
    "import pandas as pd\n",
    "import numpy as np\n",
    "import re\n",
    "import lxml\n",
    "\n"
   ]
  },
  {
   "cell_type": "code",
   "execution_count": null,
   "id": "2d6ff5b4",
   "metadata": {},
   "outputs": [],
   "source": [
    "from bs4 import BeautifulSoup\n",
    "from requests import get\n",
    "%matplotlib inline"
   ]
  },
  {
   "cell_type": "code",
   "execution_count": null,
   "id": "0f9f2d49",
   "metadata": {},
   "outputs": [],
   "source": [
    "url = \"https://www.imdb.com/search/title?count=100&title_type?count=100&title_type=feature,tv_serial&ref_=nv_wl_img_2\""
   ]
  },
  {
   "cell_type": "code",
   "execution_count": null,
   "id": "857d3ee3",
   "metadata": {},
   "outputs": [],
   "source": [
    "page = get(url)"
   ]
  },
  {
   "cell_type": "code",
   "execution_count": null,
   "id": "d9489437",
   "metadata": {},
   "outputs": [],
   "source": [
    "soup = BeautifulSoup(page.content, 'lxml')"
   ]
  },
  {
   "cell_type": "code",
   "execution_count": null,
   "id": "83fb7614",
   "metadata": {},
   "outputs": [],
   "source": [
    "content = soup.find(id=\"main\")"
   ]
  },
  {
   "cell_type": "code",
   "execution_count": null,
   "id": "8acdbfca",
   "metadata": {},
   "outputs": [],
   "source": [
    "articleTitle = soup.find(\"h1\", class_=\"header\").text.replace(\"\\n\",\"\")"
   ]
  },
  {
   "cell_type": "code",
   "execution_count": null,
   "id": "50b2c425",
   "metadata": {},
   "outputs": [],
   "source": [
    "movieFrame = content.find_all(\"div\", class_=\"lister-item mode-advaned\")"
   ]
  },
  {
   "cell_type": "code",
   "execution_count": null,
   "id": "3b233783",
   "metadata": {},
   "outputs": [],
   "source": [
    "movieFirstLine = movieFrame[0].find(\"h1\", class_=\"lister-item-header\")"
   ]
  },
  {
   "cell_type": "code",
   "execution_count": null,
   "id": "b4823188",
   "metadata": {},
   "outputs": [],
   "source": [
    "movieTitle = movieFirstLine.find(\"a\").text"
   ]
  },
  {
   "cell_type": "code",
   "execution_count": null,
   "id": "1ac7ba13",
   "metadata": {},
   "outputs": [],
   "source": [
    "movieData = re.sub(r\"[()]\"\",\"\", movieFirstLine.find_all(\"span\")[-1].text)"
   ]
  },
  {
   "cell_type": "code",
   "execution_count": null,
   "id": "53e8c069",
   "metadata": {},
   "outputs": [],
   "source": [
    "movieRuntime = movieFrame[0].find(\"span\", class_=\"runtime\").text[:-4]"
   ]
  },
  {
   "cell_type": "code",
   "execution_count": null,
   "id": "85fbb0f3",
   "metadata": {},
   "outputs": [],
   "source": [
    "movieGenre = movieFrame[0].find(\"span\",class_=\"genre\").text.rstrip().replace(\"\\n\",\"\").split(\",\")"
   ]
  },
  {
   "cell_type": "code",
   "execution_count": null,
   "id": "fe4d5f7b",
   "metadata": {},
   "outputs": [],
   "source": [
    "movieRating = movieFrame[0].find(\"strong\").text"
   ]
  },
  {
   "cell_type": "code",
   "execution_count": null,
   "id": "226f692a",
   "metadata": {},
   "outputs": [],
   "source": [
    "movieScore = movieFrame[0].find(\"span\", class_=\"metascore unfavorable\").text.rstrip()"
   ]
  },
  {
   "cell_type": "code",
   "execution_count": null,
   "id": "0115ab97",
   "metadata": {},
   "outputs": [],
   "source": [
    "movieDisc = movieFrame[0].find_all(\"p\", class_=\"text-muted\")[-1].text.lstrip()"
   ]
  },
  {
   "cell_type": "code",
   "execution_count": null,
   "id": "5a198582",
   "metadata": {},
   "outputs": [],
   "source": [
    "movieCast = movieFrame[0].find(\"p\", class_=\"\")"
   ]
  },
  {
   "cell_type": "code",
   "execution_count": null,
   "id": "7822b5e3",
   "metadata": {},
   "outputs": [],
   "source": [
    "# Movie Director and Movie Stars\n",
    "try:\n",
    "    casts = movieCast.text.replace(\"\\n\",\"\").split('|')\n",
    "    casts = [x.strip() for x in casts]\n",
    "    casts = [casts[i].replace(j, \"\") for i,j in enumerate([\"Director:\",\"stars:\"])\n",
    "    movieDirector = casts[0]\n",
    "    movieStars = [x.strip() for x in casts[1].split(\",\")]\n",
    "except:\n",
    "     casts = movieCast.text.replace(\"\\n\",\"\").strip()\n",
    "     movieDirector = np.nan\n",
    "     movieStars = [x.strip() for x in casts.split(\",\")]        \n",
    "             "
   ]
  },
  {
   "cell_type": "code",
   "execution_count": null,
   "id": "176aa69c",
   "metadata": {},
   "outputs": [],
   "source": [
    "movieNumbers = movieFrame[0].find_all(\"span\",attrs={name: \"nv\"})"
   ]
  },
  {
   "cell_type": "code",
   "execution_count": null,
   "id": "80acc77c",
   "metadata": {},
   "outputs": [],
   "source": [
    "if len(movieNumbers) == 2:\n",
    "   movieVotes = movieNumbers[0].text\n",
    "   movieGross = movieNumbers[1].text\n",
    "else:\n",
    "    movieVotes = movieNumbers[0].text\n",
    "    movieGross = np.nan"
   ]
  },
  {
   "cell_type": "markdown",
   "id": "1a83a9c0",
   "metadata": {},
   "source": []
  },
  {
   "cell_type": "markdown",
   "id": "cc8c12ca",
   "metadata": {},
   "source": [
    "# python program to scrape icc-cricket.com womens odi "
   ]
  },
  {
   "cell_type": "code",
   "execution_count": 136,
   "id": "01674fe4",
   "metadata": {},
   "outputs": [],
   "source": [
    "#will be scrapping top 100 batsman ranked"
   ]
  },
  {
   "cell_type": "code",
   "execution_count": 137,
   "id": "8a9de421",
   "metadata": {},
   "outputs": [],
   "source": [
    "#table name =>> class = \"table-rankings-table\""
   ]
  },
  {
   "cell_type": "code",
   "execution_count": 138,
   "id": "258a2d6e",
   "metadata": {},
   "outputs": [],
   "source": [
    "#site url \"https://www.icc-cricket.com/rankings/women's/player-rankings/odi/batting\""
   ]
  },
  {
   "cell_type": "code",
   "execution_count": 139,
   "id": "b63051de",
   "metadata": {},
   "outputs": [],
   "source": [
    "from bs4 import BeautifulSoup\n",
    "import requests\n",
    "import re"
   ]
  },
  {
   "cell_type": "code",
   "execution_count": 140,
   "id": "4f2bdfb2",
   "metadata": {},
   "outputs": [],
   "source": [
    "url = \"https://www.icc-cricket.com/rankings/women's/player-rankings/odi/batting\""
   ]
  },
  {
   "cell_type": "code",
   "execution_count": 141,
   "id": "ce28d73c",
   "metadata": {},
   "outputs": [],
   "source": [
    "r = requests.get(url).text"
   ]
  },
  {
   "cell_type": "code",
   "execution_count": 142,
   "id": "86ba0d93",
   "metadata": {},
   "outputs": [],
   "source": [
    "soup = BeautifulSoup(r, 'lxml')"
   ]
  },
  {
   "cell_type": "code",
   "execution_count": 143,
   "id": "7c0cbb51",
   "metadata": {},
   "outputs": [],
   "source": [
    "table= soup.find('table',attrs={\"class\":\"table-rankings-table\"})"
   ]
  },
  {
   "cell_type": "code",
   "execution_count": 144,
   "id": "9b2632bf",
   "metadata": {},
   "outputs": [],
   "source": [
    "#print(table)"
   ]
  },
  {
   "cell_type": "code",
   "execution_count": 145,
   "id": "53faeaee",
   "metadata": {},
   "outputs": [],
   "source": [
    "#loop all tr and td to get the value"
   ]
  },
  {
   "cell_type": "code",
   "execution_count": 150,
   "id": "0bc0c13f",
   "metadata": {},
   "outputs": [
    {
     "ename": "TypeError",
     "evalue": "'NoneType' object is not callable",
     "output_type": "error",
     "traceback": [
      "\u001b[1;31m---------------------------------------------------------------------------\u001b[0m",
      "\u001b[1;31mTypeError\u001b[0m                                 Traceback (most recent call last)",
      "\u001b[1;32mC:\\Users\\MDSHAF~1\\AppData\\Local\\Temp/ipykernel_7584/3792640573.py\u001b[0m in \u001b[0;36m<module>\u001b[1;34m\u001b[0m\n\u001b[1;32m----> 1\u001b[1;33m \u001b[1;32mfor\u001b[0m \u001b[0mtr\u001b[0m \u001b[1;32min\u001b[0m \u001b[0mtable\u001b[0m\u001b[1;33m(\u001b[0m\u001b[1;34m'tr'\u001b[0m\u001b[1;33m)\u001b[0m\u001b[1;33m:\u001b[0m\u001b[1;33m\u001b[0m\u001b[1;33m\u001b[0m\u001b[0m\n\u001b[0m\u001b[0;32m      2\u001b[0m     \u001b[1;32mfor\u001b[0m \u001b[0mtd\u001b[0m \u001b[1;32min\u001b[0m \u001b[0mtable\u001b[0m\u001b[1;33m(\u001b[0m\u001b[1;34m'td'\u001b[0m\u001b[1;33m)\u001b[0m\u001b[1;33m:\u001b[0m\u001b[1;33m\u001b[0m\u001b[1;33m\u001b[0m\u001b[0m\n\u001b[0;32m      3\u001b[0m         \u001b[0mplayerslist\u001b[0m\u001b[1;33m.\u001b[0m\u001b[0mappend\u001b[0m\u001b[1;33m(\u001b[0m\u001b[0mtd\u001b[0m\u001b[1;33m.\u001b[0m\u001b[0mtext\u001b[0m\u001b[1;33m.\u001b[0m\u001b[0mreplace\u001b[0m\u001b[1;33m(\u001b[0m\u001b[1;34m'\\n'\u001b[0m\u001b[1;33m,\u001b[0m\u001b[1;34m\"\"\u001b[0m\u001b[1;33m)\u001b[0m\u001b[1;33m.\u001b[0m\u001b[0mstrip\u001b[0m\u001b[1;33m(\u001b[0m\u001b[1;33m)\u001b[0m\u001b[1;33m)\u001b[0m\u001b[1;33m\u001b[0m\u001b[1;33m\u001b[0m\u001b[0m\n",
      "\u001b[1;31mTypeError\u001b[0m: 'NoneType' object is not callable"
     ]
    }
   ],
   "source": [
    "for tr in table('tr'):\n",
    "    for td in table('td'):\n",
    "        playerslist.append(td.text.replace('\\n',\"\").strip())"
   ]
  },
  {
   "cell_type": "code",
   "execution_count": 151,
   "id": "d9c056c2",
   "metadata": {},
   "outputs": [],
   "source": [
    "for player in playerslist:\n",
    "    print(player)"
   ]
  },
  {
   "cell_type": "code",
   "execution_count": null,
   "id": "78020a5b",
   "metadata": {},
   "outputs": [],
   "source": []
  }
 ],
 "metadata": {
  "kernelspec": {
   "display_name": "Python 3 (ipykernel)",
   "language": "python",
   "name": "python3"
  },
  "language_info": {
   "codemirror_mode": {
    "name": "ipython",
    "version": 3
   },
   "file_extension": ".py",
   "mimetype": "text/x-python",
   "name": "python",
   "nbconvert_exporter": "python",
   "pygments_lexer": "ipython3",
   "version": "3.9.7"
  }
 },
 "nbformat": 4,
 "nbformat_minor": 5
}
